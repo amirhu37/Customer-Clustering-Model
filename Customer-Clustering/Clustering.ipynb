{
  "cells": [
    {
      "cell_type": "markdown",
      "id": "ed213c95",
      "metadata": {
        "direction": "rtl",
        "id": "ed213c95"
      },
      "source": [
        "## Clustering"
      ]
    },
    {
      "cell_type": "code",
      "execution_count": null,
      "id": "c9a414b2",
      "metadata": {
        "id": "c9a414b2"
      },
      "outputs": [],
      "source": [
        "import pandas as pd\n",
        "import matplotlib.pyplot as plt\n",
        "import numpy as np\n",
        "from sklearn import preprocessing\n",
        "from sklearn.preprocessing import StandardScaler\n",
        "from sklearn.cluster import KMeans, AgglomerativeClustering, DBSCAN\n",
        "from sklearn.metrics.pairwise import euclidean_distances\n",
        "\n",
        "%matplotlib inline"
      ]
    },
    {
      "cell_type": "code",
      "execution_count": null,
      "id": "9ad633bb",
      "metadata": {
        "id": "9ad633bb",
        "outputId": "f9073069-4910-4274-90d2-cf3af35eaf70"
      },
      "outputs": [
        {
          "data": {
            "text/html": [
              "<div>\n",
              "<style scoped>\n",
              "    .dataframe tbody tr th:only-of-type {\n",
              "        vertical-align: middle;\n",
              "    }\n",
              "\n",
              "    .dataframe tbody tr th {\n",
              "        vertical-align: top;\n",
              "    }\n",
              "\n",
              "    .dataframe thead th {\n",
              "        text-align: right;\n",
              "    }\n",
              "</style>\n",
              "<table border=\"1\" class=\"dataframe\">\n",
              "  <thead>\n",
              "    <tr style=\"text-align: right;\">\n",
              "      <th></th>\n",
              "      <th>CustomerID</th>\n",
              "      <th>Gender</th>\n",
              "      <th>Age</th>\n",
              "      <th>Annual Income (k$)</th>\n",
              "      <th>Spending Score (1-100)</th>\n",
              "    </tr>\n",
              "  </thead>\n",
              "  <tbody>\n",
              "    <tr>\n",
              "      <th>0</th>\n",
              "      <td>1</td>\n",
              "      <td>Male</td>\n",
              "      <td>19</td>\n",
              "      <td>15</td>\n",
              "      <td>39</td>\n",
              "    </tr>\n",
              "    <tr>\n",
              "      <th>1</th>\n",
              "      <td>2</td>\n",
              "      <td>Male</td>\n",
              "      <td>21</td>\n",
              "      <td>15</td>\n",
              "      <td>81</td>\n",
              "    </tr>\n",
              "    <tr>\n",
              "      <th>2</th>\n",
              "      <td>3</td>\n",
              "      <td>Female</td>\n",
              "      <td>20</td>\n",
              "      <td>16</td>\n",
              "      <td>6</td>\n",
              "    </tr>\n",
              "    <tr>\n",
              "      <th>3</th>\n",
              "      <td>4</td>\n",
              "      <td>Female</td>\n",
              "      <td>23</td>\n",
              "      <td>16</td>\n",
              "      <td>77</td>\n",
              "    </tr>\n",
              "    <tr>\n",
              "      <th>4</th>\n",
              "      <td>5</td>\n",
              "      <td>Female</td>\n",
              "      <td>31</td>\n",
              "      <td>17</td>\n",
              "      <td>40</td>\n",
              "    </tr>\n",
              "  </tbody>\n",
              "</table>\n",
              "</div>"
            ],
            "text/plain": [
              "   CustomerID  Gender  Age  Annual Income (k$)  Spending Score (1-100)\n",
              "0           1    Male   19                  15                      39\n",
              "1           2    Male   21                  15                      81\n",
              "2           3  Female   20                  16                       6\n",
              "3           4  Female   23                  16                      77\n",
              "4           5  Female   31                  17                      40"
            ]
          },
          "execution_count": 12,
          "metadata": {},
          "output_type": "execute_result"
        }
      ],
      "source": [
        "df = pd.read_csv('Customer.csv' , index_col= False)\n",
        "\n",
        "df.head()"
      ]
    },
    {
      "cell_type": "markdown",
      "id": "29b49f0a",
      "metadata": {
        "id": "29b49f0a"
      },
      "source": [
        "طبق مشخصات جدول هیچ داده ی N/A در جدول نیست."
      ]
    },
    {
      "cell_type": "code",
      "execution_count": null,
      "id": "7478acb4",
      "metadata": {
        "id": "7478acb4",
        "outputId": "61f269e1-f1ba-48fd-ce70-a507456f562a"
      },
      "outputs": [
        {
          "name": "stdout",
          "output_type": "stream",
          "text": [
            "(200, 5)\n",
            "<class 'pandas.core.frame.DataFrame'>\n",
            "RangeIndex: 200 entries, 0 to 199\n",
            "Data columns (total 5 columns):\n",
            " #   Column                  Non-Null Count  Dtype \n",
            "---  ------                  --------------  ----- \n",
            " 0   CustomerID              200 non-null    int64 \n",
            " 1   Gender                  200 non-null    object\n",
            " 2   Age                     200 non-null    int64 \n",
            " 3   Annual Income (k$)      200 non-null    int64 \n",
            " 4   Spending Score (1-100)  200 non-null    int64 \n",
            "dtypes: int64(4), object(1)\n",
            "memory usage: 7.9+ KB\n"
          ]
        },
        {
          "data": {
            "text/plain": [
              "Index(['CustomerID', 'Gender', 'Age', 'Annual Income (k$)',\n",
              "       'Spending Score (1-100)'],\n",
              "      dtype='object')"
            ]
          },
          "execution_count": 13,
          "metadata": {},
          "output_type": "execute_result"
        }
      ],
      "source": [
        "print(df.shape)\n",
        "df.info()\n",
        "df.notna().sum()\n",
        "df.columns"
      ]
    },
    {
      "cell_type": "markdown",
      "id": "4b8f8216",
      "metadata": {
        "id": "4b8f8216"
      },
      "source": [
        "# پیش پردازش داده\n",
        "\n",
        "### تبدیل جدول pandas به ماتریس داده numpy"
      ]
    },
    {
      "cell_type": "code",
      "execution_count": null,
      "id": "7b8962a1",
      "metadata": {
        "id": "7b8962a1",
        "outputId": "8e14cc3b-bf45-45bd-91bb-38c1a1d5d685"
      },
      "outputs": [
        {
          "data": {
            "text/plain": [
              "array([[19, 15, 39],\n",
              "       [21, 15, 81],\n",
              "       [20, 16,  6],\n",
              "       [23, 16, 77],\n",
              "       [31, 17, 40]], dtype=int64)"
            ]
          },
          "execution_count": 57,
          "metadata": {},
          "output_type": "execute_result"
        }
      ],
      "source": [
        "X = np.asanyarray(df[[ 'Age', 'Annual Income (k$)', 'Spending Score (1-100)']])\n",
        "\n",
        "\n",
        "X[:5]"
      ]
    },
    {
      "cell_type": "markdown",
      "id": "bef4dd56",
      "metadata": {
        "id": "bef4dd56"
      },
      "source": [
        "## استاندارد سازی داده"
      ]
    },
    {
      "cell_type": "code",
      "execution_count": null,
      "id": "168a6d3c",
      "metadata": {
        "id": "168a6d3c",
        "outputId": "ecc40020-c1ac-4a63-9027-d434d627495c"
      },
      "outputs": [
        {
          "data": {
            "text/plain": [
              "array([[0.01923077, 0.        , 0.3877551 ],\n",
              "       [0.05769231, 0.        , 0.81632653],\n",
              "       [0.03846154, 0.00819672, 0.05102041],\n",
              "       [0.09615385, 0.00819672, 0.7755102 ],\n",
              "       [0.25      , 0.01639344, 0.39795918]])"
            ]
          },
          "execution_count": 58,
          "metadata": {},
          "output_type": "execute_result"
        }
      ],
      "source": [
        "X = preprocessing.MinMaxScaler().fit_transform(X)\n",
        "X[:5]"
      ]
    },
    {
      "cell_type": "code",
      "execution_count": null,
      "id": "8883b1b1",
      "metadata": {
        "id": "8883b1b1",
        "outputId": "863e7562-dd77-441f-c868-ecae029f7147"
      },
      "outputs": [
        {
          "name": "stderr",
          "output_type": "stream",
          "text": [
            "C:\\Users\\AMIRHU~1\\AppData\\Local\\Temp/ipykernel_9424/750707918.py:1: UserWarning: marker is redundantly defined by the 'marker' keyword argument and the fmt string \"o\" (-> marker='o'). The keyword argument will take precedence.\n",
            "  plt.plot(X , 'o', marker = '.')\n"
          ]
        },
        {
          "data": {
            "image/png": "[encoded data removed]",
            "text/plain": [
              "<Figure size 432x288 with 1 Axes>"
            ]
          },
          "metadata": {
            "needs_background": "light"
          },
          "output_type": "display_data"
        }
      ],
      "source": [
        "\n",
        "plt.plot(X , 'o', marker = '.')\n",
        "plt.show()"
      ]
    },
    {
      "cell_type": "markdown",
      "id": "af0f93ab",
      "metadata": {
        "id": "af0f93ab"
      },
      "source": [
        "<center>\n",
        "    <h1>\n",
        "      مدل سازی  \n",
        "    </h1>\n",
        "    </center>\n",
        "    "
      ]
    },
    {
      "cell_type": "markdown",
      "id": "62899887",
      "metadata": {
        "id": "62899887"
      },
      "source": [
        "# مدل اول\n",
        "## K-means"
      ]
    },
    {
      "cell_type": "code",
      "execution_count": null,
      "id": "b66be577",
      "metadata": {
        "id": "b66be577"
      },
      "outputs": [],
      "source": [
        "kx = X.copy()\n",
        "k_means = KMeans(init = \"k-means++\", n_clusters = 3, n_init = 20)\n",
        "k_means.fit(kx)\n",
        "labels = k_means.labels_\n",
        "center = k_means.cluster_centers_\n"
      ]
    },
    {
      "cell_type": "markdown",
      "id": "2beea9a3",
      "metadata": {
        "id": "2beea9a3"
      },
      "source": [
        "## اضافه کردن برچسب ها به دیتاست اصلی\n"
      ]
    },
    {
      "cell_type": "code",
      "execution_count": null,
      "id": "e2b900f0",
      "metadata": {
        "id": "e2b900f0",
        "outputId": "e2f1131b-fb51-4ab9-edec-4b7f657ac55c"
      },
      "outputs": [
        {
          "data": {
            "text/html": [
              "<div>\n",
              "<style scoped>\n",
              "    .dataframe tbody tr th:only-of-type {\n",
              "        vertical-align: middle;\n",
              "    }\n",
              "\n",
              "    .dataframe tbody tr th {\n",
              "        vertical-align: top;\n",
              "    }\n",
              "\n",
              "    .dataframe thead th {\n",
              "        text-align: right;\n",
              "    }\n",
              "</style>\n",
              "<table border=\"1\" class=\"dataframe\">\n",
              "  <thead>\n",
              "    <tr style=\"text-align: right;\">\n",
              "      <th></th>\n",
              "      <th>CustomerID</th>\n",
              "      <th>Gender</th>\n",
              "      <th>Age</th>\n",
              "      <th>Annual Income (k$)</th>\n",
              "      <th>Spending Score (1-100)</th>\n",
              "      <th>Cluster_KMean</th>\n",
              "      <th>cluster_agglo_mtx</th>\n",
              "      <th>Clus_Db</th>\n",
              "    </tr>\n",
              "  </thead>\n",
              "  <tbody>\n",
              "    <tr>\n",
              "      <th>0</th>\n",
              "      <td>1</td>\n",
              "      <td>Male</td>\n",
              "      <td>19</td>\n",
              "      <td>15</td>\n",
              "      <td>39</td>\n",
              "      <td>0</td>\n",
              "      <td>0</td>\n",
              "      <td>-1</td>\n",
              "    </tr>\n",
              "    <tr>\n",
              "      <th>1</th>\n",
              "      <td>2</td>\n",
              "      <td>Male</td>\n",
              "      <td>21</td>\n",
              "      <td>15</td>\n",
              "      <td>81</td>\n",
              "      <td>0</td>\n",
              "      <td>0</td>\n",
              "      <td>-1</td>\n",
              "    </tr>\n",
              "    <tr>\n",
              "      <th>2</th>\n",
              "      <td>3</td>\n",
              "      <td>Female</td>\n",
              "      <td>20</td>\n",
              "      <td>16</td>\n",
              "      <td>6</td>\n",
              "      <td>2</td>\n",
              "      <td>1</td>\n",
              "      <td>-1</td>\n",
              "    </tr>\n",
              "    <tr>\n",
              "      <th>3</th>\n",
              "      <td>4</td>\n",
              "      <td>Female</td>\n",
              "      <td>23</td>\n",
              "      <td>16</td>\n",
              "      <td>77</td>\n",
              "      <td>0</td>\n",
              "      <td>0</td>\n",
              "      <td>-1</td>\n",
              "    </tr>\n",
              "    <tr>\n",
              "      <th>4</th>\n",
              "      <td>5</td>\n",
              "      <td>Female</td>\n",
              "      <td>31</td>\n",
              "      <td>17</td>\n",
              "      <td>40</td>\n",
              "      <td>0</td>\n",
              "      <td>0</td>\n",
              "      <td>-1</td>\n",
              "    </tr>\n",
              "  </tbody>\n",
              "</table>\n",
              "</div>"
            ],
            "text/plain": [
              "   CustomerID  Gender  Age  Annual Income (k$)  Spending Score (1-100)  \\\n",
              "0           1    Male   19                  15                      39   \n",
              "1           2    Male   21                  15                      81   \n",
              "2           3  Female   20                  16                       6   \n",
              "3           4  Female   23                  16                      77   \n",
              "4           5  Female   31                  17                      40   \n",
              "\n",
              "   Cluster_KMean  cluster_agglo_mtx  Clus_Db  \n",
              "0              0                  0       -1  \n",
              "1              0                  0       -1  \n",
              "2              2                  1       -1  \n",
              "3              0                  0       -1  \n",
              "4              0                  0       -1  "
            ]
          },
          "execution_count": 61,
          "metadata": {},
          "output_type": "execute_result"
        }
      ],
      "source": [
        "df[\"Cluster_KMean\"] = labels\n",
        "df.head(5)\n"
      ]
    },
    {
      "cell_type": "code",
      "execution_count": null,
      "id": "abf2fa2b",
      "metadata": {
        "id": "abf2fa2b",
        "outputId": "8fdd18fc-f549-4d49-ee63-d3881e430b1e"
      },
      "outputs": [
        {
          "data": {
            "image/png": "[encoded data removed]",
            "text/plain": [
              "<Figure size 432x288 with 1 Axes>"
            ]
          },
          "metadata": {},
          "output_type": "display_data"
        }
      ],
      "source": [
        "\n",
        "fig = plt.figure(figsize=(6, 4))\n",
        "\n",
        "colors = plt.cm.Spectral(np.linspace(0, 1, len(center)))\n",
        "\n",
        "# Create a plot\n",
        "ax = fig.add_subplot(1, 1, 1)\n",
        "\n",
        "u_labels = set(labels)\n",
        "\n",
        "for k, col in zip(u_labels, colors) :\n",
        "\n",
        "\n",
        "    my_members = (labels == k)\n",
        "\n",
        "    cluster_center = center[k]\n",
        "    \n",
        "\n",
        "    ax.scatter(X[my_members, 0], X[my_members, 1], s = 20 )\n",
        "    \n",
        "    # Plots the centroids with specified color, but with a darker outline\n",
        "    ax.scatter(cluster_center[0], cluster_center[1], s = 20, color = 'k')\n",
        "\n",
        "# Title of the plot\n",
        "ax.set_title('KMeans')\n",
        "\n",
        "# Remove x-axis ticks\n",
        "ax.set_xticks(())\n",
        "\n",
        "# Remove y-axis ticks\n",
        "ax.set_yticks(())\n",
        "\n",
        "# Show the plot\n",
        "plt.show()"
      ]
    },
    {
      "cell_type": "markdown",
      "id": "578fdd64",
      "metadata": {
        "id": "578fdd64"
      },
      "source": [
        "# مدل دوم\n",
        "## سلسه مراتبی"
      ]
    },
    {
      "cell_type": "markdown",
      "id": "494f5d08",
      "metadata": {
        "id": "494f5d08"
      },
      "source": [
        "# محاسبه ی ماتریس فاصله"
      ]
    },
    {
      "cell_type": "code",
      "execution_count": null,
      "id": "4ee94927",
      "metadata": {
        "id": "4ee94927"
      },
      "outputs": [],
      "source": [
        "mtx_X = X.copy()\n",
        "dist_matrix = euclidean_distances(mtx_X,mtx_X) \n"
      ]
    },
    {
      "cell_type": "markdown",
      "id": "9a2cedcc",
      "metadata": {
        "id": "9a2cedcc"
      },
      "source": [
        "### محاسبه به روش ماتریس فاصله"
      ]
    },
    {
      "cell_type": "code",
      "execution_count": null,
      "id": "c339c6b5",
      "metadata": {
        "id": "c339c6b5",
        "outputId": "7f2a5795-0853-442b-a626-2f9a291b3f68"
      },
      "outputs": [
        {
          "name": "stderr",
          "output_type": "stream",
          "text": [
            "C:\\Users\\AmirHussain\\anaconda3\\lib\\site-packages\\sklearn\\cluster\\_agglomerative.py:493: ClusterWarning: scipy.cluster: The symmetric non-negative hollow observation matrix looks suspiciously like an uncondensed distance matrix\n",
            "  out = hierarchy.linkage(X, method=linkage, metric=affinity)\n"
          ]
        }
      ],
      "source": [
        "z_by_dist_mtrx = AgglomerativeClustering(n_clusters=3, linkage='complete')\n",
        "\n",
        "z_by_dist_mtrx.fit(dist_matrix)\n",
        "\n",
        "mtx_labels = z_by_dist_mtrx.labels_\n",
        "\n",
        "df['cluster_agglo_mtx'] = mtx_labels\n",
        "\n",
        "ns = z_by_dist_mtrx.n_clusters_\n"
      ]
    },
    {
      "cell_type": "code",
      "execution_count": null,
      "id": "a261c48e",
      "metadata": {
        "id": "a261c48e",
        "outputId": "ec3d4dbd-c92b-4776-d449-a82840bdf21d"
      },
      "outputs": [
        {
          "data": {
            "image/png": "[encoded data removed]",
            "text/plain": [
              "<Figure size 432x288 with 1 Axes>"
            ]
          },
          "metadata": {},
          "output_type": "display_data"
        }
      ],
      "source": [
        "fig = plt.figure(figsize=(6, 4))\n",
        "# Create a plot\n",
        "ax = fig.add_subplot(1, 1, 1)\n",
        "colors = plt.cm.Spectral(np.linspace(0, 1, len(set(mtx_labels))))\n",
        "\n",
        "u_labels = set(mtx_labels)\n",
        "\n",
        "for k, col in zip(u_labels, colors) :\n",
        "\n",
        "\n",
        "    my_members = (labels == k)\n",
        "\n",
        "    cluster_center = center[k]\n",
        "    \n",
        "\n",
        "    ax.scatter(X[my_members, 0], X[my_members, 1], s = 20 )\n",
        "    \n",
        "    # Plots the centroids with specified color, but with a darker outline\n",
        "    ax.scatter(cluster_center[0], cluster_center[1], s = 20, color = 'k')\n",
        "\n",
        "\n",
        "# Title of the plot\n",
        "ax.set_title('Agglomerative - Clustering')\n",
        "\n",
        "# Remove x-axis ticks\n",
        "ax.set_xticks(())\n",
        "\n",
        "# Remove y-axis ticks\n",
        "ax.set_yticks(())\n",
        "\n",
        "plt.show() "
      ]
    },
    {
      "cell_type": "markdown",
      "id": "3b10dfd6",
      "metadata": {
        "id": "3b10dfd6"
      },
      "source": [
        "## روش DBSCAN\n",
        "در روش داده های پرت با لیبل 1- مشخص می شود که در آخر می بینیم که همه را پرت در نظر گرفته که یعنی الگورتیم مناسبی نیست"
      ]
    },
    {
      "cell_type": "code",
      "execution_count": null,
      "id": "d1c6cd1d",
      "metadata": {
        "id": "d1c6cd1d",
        "outputId": "58fe829b-1384-443d-f8aa-83eb2562b1f2"
      },
      "outputs": [
        {
          "data": {
            "text/plain": [
              "array([-1,  0, -1,  0, -1,  0, -1,  0, -1,  0, -1, -1, -1,  0, -1,  0, -1,\n",
              "        0, -1, -1, -1,  0, -1,  0, -1,  0, -1, -1, -1,  0, -1,  0, -1,  0,\n",
              "       -1,  0, -1,  0, -1,  0,  1,  0,  1,  2,  1,  0,  1,  2,  2,  2,  1,\n",
              "        2,  2,  1,  1,  1,  1,  1,  2,  1,  1,  2,  1,  1,  1,  2,  1,  1,\n",
              "        2,  2,  1,  1,  1,  1,  1,  2,  1,  1,  2,  1,  1,  1,  1,  1,  2,\n",
              "        1,  1,  2,  2,  1,  1,  2,  1,  1,  2,  2,  1,  2,  1,  2,  2,  1,\n",
              "        1,  2,  1,  2,  1,  1,  1,  1,  1,  2, -1,  2,  2,  2,  1,  1,  1,\n",
              "        1,  2, -1, -1,  3,  2,  3,  1,  3, -1,  3, -1,  3,  2,  3, -1,  3,\n",
              "       -1,  3, -1,  3, -1,  3, -1,  3, -1,  3,  1,  3, -1,  3, -1,  3, -1,\n",
              "        3, -1,  3, -1,  3, -1,  3, -1,  3, -1,  3, -1,  3, -1,  3, -1,  3,\n",
              "       -1,  3, -1,  3, -1,  3, -1,  3, -1,  3, -1,  3, -1,  3, -1,  3, -1,\n",
              "        3, -1,  3, -1, -1, -1, -1, -1, -1, -1, -1, -1, -1], dtype=int64)"
            ]
          },
          "execution_count": 66,
          "metadata": {},
          "output_type": "execute_result"
        }
      ],
      "source": [
        "db_x = X.copy()\n",
        "# Compute DBSCAN\n",
        "db = DBSCAN(eps=0.15, min_samples=10, metric='euclidean', algorithm='auto').fit(db_x)\n",
        "\n",
        "db_labels = db.labels_\n",
        "df[\"Clus_Db\"]=db_labels\n",
        "db_labels"
      ]
    },
    {
      "cell_type": "code",
      "execution_count": null,
      "id": "cd1061b3",
      "metadata": {
        "id": "cd1061b3",
        "outputId": "41cef85f-42a2-4195-c26a-f0303c415fe0"
      },
      "outputs": [
        {
          "ename": "IndexError",
          "evalue": "index 3 is out of bounds for axis 0 with size 3",
          "output_type": "error",
          "traceback": [
            "\u001b[1;31m---------------------------------------------------------------------------\u001b[0m",
            "\u001b[1;31mIndexError\u001b[0m                                Traceback (most recent call last)",
            "\u001b[1;32mC:\\Users\\AMIRHU~1\\AppData\\Local\\Temp/ipykernel_9424/3274301532.py\u001b[0m in \u001b[0;36m<module>\u001b[1;34m\u001b[0m\n\u001b[0;32m     13\u001b[0m     \u001b[0mmy_members\u001b[0m \u001b[1;33m=\u001b[0m \u001b[1;33m(\u001b[0m\u001b[0mlabels\u001b[0m \u001b[1;33m==\u001b[0m \u001b[0mk\u001b[0m\u001b[1;33m)\u001b[0m\u001b[1;33m\u001b[0m\u001b[1;33m\u001b[0m\u001b[0m\n\u001b[0;32m     14\u001b[0m \u001b[1;33m\u001b[0m\u001b[0m\n\u001b[1;32m---> 15\u001b[1;33m     \u001b[0mcluster_center\u001b[0m \u001b[1;33m=\u001b[0m \u001b[0mcenter\u001b[0m\u001b[1;33m[\u001b[0m\u001b[0mk\u001b[0m\u001b[1;33m]\u001b[0m\u001b[1;33m\u001b[0m\u001b[1;33m\u001b[0m\u001b[0m\n\u001b[0m\u001b[0;32m     16\u001b[0m \u001b[1;33m\u001b[0m\u001b[0m\n\u001b[0;32m     17\u001b[0m \u001b[1;33m\u001b[0m\u001b[0m\n",
            "\u001b[1;31mIndexError\u001b[0m: index 3 is out of bounds for axis 0 with size 3"
          ]
        },
        {
          "data": {
            "image/png": "[encoded data removed]",
            "text/plain": [
              "<Figure size 432x288 with 1 Axes>"
            ]
          },
          "metadata": {
            "needs_background": "light"
          },
          "output_type": "display_data"
        }
      ],
      "source": [
        "fig = plt.figure(figsize=(6, 4))\n",
        "# Create a plot\n",
        "ax = fig.add_subplot(1, 1, 1)\n",
        "\n",
        "u_labels = set(db_labels)\n",
        "colors = plt.cm.Spectral(np.linspace(0, 1, len(u_labels)))\n",
        "\n",
        "\n",
        "\n",
        "for k, col in zip(u_labels, colors) :\n",
        "\n",
        "\n",
        "    my_members = (labels == k)\n",
        "\n",
        "    cluster_center = center[k]\n",
        "    \n",
        "\n",
        "    ax.scatter(X[my_members, 0], X[my_members, 1], s = 20 )\n",
        "    \n",
        "    # Plots the centroids with specified color, but with a darker outline\n",
        "    ax.scatter(cluster_center[0], cluster_center[1], s = 20, color = 'k')\n",
        "\n",
        "\n",
        "# Title of the plot\n",
        "ax.set_title('DBSCAN')\n",
        "\n",
        "# Remove x-axis ticks\n",
        "ax.set_xticks(())\n",
        "\n",
        "# Remove y-axis ticks\n",
        "ax.set_yticks(())\n",
        "\n",
        "plt.show() "
      ]
    },
    {
      "cell_type": "code",
      "execution_count": null,
      "id": "8b439ec4",
      "metadata": {
        "id": "8b439ec4",
        "outputId": "94364fa5-6562-4592-964e-6785a4593a7d"
      },
      "outputs": [
        {
          "data": {
            "text/html": [
              "<div>\n",
              "<style scoped>\n",
              "    .dataframe tbody tr th:only-of-type {\n",
              "        vertical-align: middle;\n",
              "    }\n",
              "\n",
              "    .dataframe tbody tr th {\n",
              "        vertical-align: top;\n",
              "    }\n",
              "\n",
              "    .dataframe thead th {\n",
              "        text-align: right;\n",
              "    }\n",
              "</style>\n",
              "<table border=\"1\" class=\"dataframe\">\n",
              "  <thead>\n",
              "    <tr style=\"text-align: right;\">\n",
              "      <th></th>\n",
              "      <th>CustomerID</th>\n",
              "      <th>Gender</th>\n",
              "      <th>Age</th>\n",
              "      <th>Annual Income (k$)</th>\n",
              "      <th>Spending Score (1-100)</th>\n",
              "      <th>Cluster_KMean</th>\n",
              "      <th>cluster_agglo_mtx</th>\n",
              "      <th>Clus_Db</th>\n",
              "    </tr>\n",
              "  </thead>\n",
              "  <tbody>\n",
              "    <tr>\n",
              "      <th>0</th>\n",
              "      <td>1</td>\n",
              "      <td>Male</td>\n",
              "      <td>19</td>\n",
              "      <td>15</td>\n",
              "      <td>39</td>\n",
              "      <td>0</td>\n",
              "      <td>0</td>\n",
              "      <td>-1</td>\n",
              "    </tr>\n",
              "    <tr>\n",
              "      <th>1</th>\n",
              "      <td>2</td>\n",
              "      <td>Male</td>\n",
              "      <td>21</td>\n",
              "      <td>15</td>\n",
              "      <td>81</td>\n",
              "      <td>0</td>\n",
              "      <td>1</td>\n",
              "      <td>0</td>\n",
              "    </tr>\n",
              "    <tr>\n",
              "      <th>2</th>\n",
              "      <td>3</td>\n",
              "      <td>Female</td>\n",
              "      <td>20</td>\n",
              "      <td>16</td>\n",
              "      <td>6</td>\n",
              "      <td>2</td>\n",
              "      <td>0</td>\n",
              "      <td>-1</td>\n",
              "    </tr>\n",
              "    <tr>\n",
              "      <th>3</th>\n",
              "      <td>4</td>\n",
              "      <td>Female</td>\n",
              "      <td>23</td>\n",
              "      <td>16</td>\n",
              "      <td>77</td>\n",
              "      <td>0</td>\n",
              "      <td>1</td>\n",
              "      <td>0</td>\n",
              "    </tr>\n",
              "    <tr>\n",
              "      <th>4</th>\n",
              "      <td>5</td>\n",
              "      <td>Female</td>\n",
              "      <td>31</td>\n",
              "      <td>17</td>\n",
              "      <td>40</td>\n",
              "      <td>0</td>\n",
              "      <td>2</td>\n",
              "      <td>-1</td>\n",
              "    </tr>\n",
              "  </tbody>\n",
              "</table>\n",
              "</div>"
            ],
            "text/plain": [
              "   CustomerID  Gender  Age  Annual Income (k$)  Spending Score (1-100)  \\\n",
              "0           1    Male   19                  15                      39   \n",
              "1           2    Male   21                  15                      81   \n",
              "2           3  Female   20                  16                       6   \n",
              "3           4  Female   23                  16                      77   \n",
              "4           5  Female   31                  17                      40   \n",
              "\n",
              "   Cluster_KMean  cluster_agglo_mtx  Clus_Db  \n",
              "0              0                  0       -1  \n",
              "1              0                  1        0  \n",
              "2              2                  0       -1  \n",
              "3              0                  1        0  \n",
              "4              0                  2       -1  "
            ]
          },
          "execution_count": 68,
          "metadata": {},
          "output_type": "execute_result"
        }
      ],
      "source": [
        "df.head()"
      ]
    },
    {
      "cell_type": "markdown",
      "id": "a4da4919",
      "metadata": {
        "id": "a4da4919"
      },
      "source": [
        "# درنهایت :\n",
        "###    داده های اولیه هیچ برچسبی ندارشتند بنابراین \"تست دقت\" قابل انجام نیست (پ.ن : گوگول م سرچ کردم چیزی نیاورد)."
      ]
    }
  ],
  "metadata": {
    "direction": "rtl",
    "kernelspec": {
      "display_name": "Python 3 (ipykernel)",
      "language": "python",
      "name": "python3"
    },
    "language_info": {
      "codemirror_mode": {
        "name": "ipython",
        "version": 3
      },
      "file_extension": ".py",
      "mimetype": "text/x-python",
      "name": "python",
      "nbconvert_exporter": "python",
      "pygments_lexer": "ipython3",
      "version": "3.9.7"
    },
    "colab": {
      "provenance": []
    }
  },
  "nbformat": 4,
  "nbformat_minor": 5
}